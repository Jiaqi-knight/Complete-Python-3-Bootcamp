{
 "cells": [
  {
   "cell_type": "markdown",
   "metadata": {},
   "source": [
    "# PDFs and Spreadsheets Puzzle Exercise\n",
    "\n",
    "Let's test your skills, the files needed for this puzzle exercise\n",
    "\n",
    "You will need to work with two files for this exercise and solve the following tasks:\n",
    "\n",
    "* Task One: Use Python to extract the Google Drive link from the .csv file. (Hint: Its along the diagonal from top left to bottom right).\n",
    "* Task Two: Download the PDF from the Google Drive link (we already downloaded it for you just in case you can't download from Google Drive) and find the phone number that is in the document. Note: There are different ways of formatting a phone number!"
   ]
  },
  {
   "cell_type": "markdown",
   "metadata": {},
   "source": [
    "## Task One: Grab the Google Drive Link from .csv File"
   ]
  },
  {
   "cell_type": "code",
   "execution_count": 1,
   "metadata": {},
   "outputs": [
    {
     "data": {
      "text/plain": [
       "'https://drive.google.com/open?id=1G6SEgg018UB4_4xsAJJ5TdzrhmXipr4Q'"
      ]
     },
     "execution_count": 1,
     "metadata": {},
     "output_type": "execute_result"
    }
   ],
   "source": [
    "import csv\n",
    "data = list(csv.reader(open('Exercise_Files/find_the_link.csv', 'r')))\n",
    "url = ''\n",
    "\n",
    "for i in range(len(data)):\n",
    "    url += data[i][i]\n",
    "    \n",
    "url"
   ]
  },
  {
   "cell_type": "code",
   "execution_count": 2,
   "metadata": {},
   "outputs": [],
   "source": [
    "# THe correct result is shown below, if you can't download ffrom Google Drive, \n",
    "# we added the PDF file to the Exercise_Files folder already"
   ]
  },
  {
   "cell_type": "markdown",
   "metadata": {},
   "source": [
    "## Task Two: Download the PDF from the Google Drive link and find the phone number that is in the document. "
   ]
  },
  {
   "cell_type": "code",
   "execution_count": 46,
   "metadata": {},
   "outputs": [
    {
     "name": "stdout",
     "output_type": "stream",
     "text": [
      "505 503 4455\n"
     ]
    }
   ],
   "source": [
    "# You should get this phone number\n",
    "# 505 503 4455\n",
    "import re\n",
    "import PyPDF2\n",
    "pdf_reader = PyPDF2.PdfFileReader(open('Exercise_Files/Find_the_Phone_Number.pdf','rb'))\n",
    "\n",
    "num_page = pdf_reader.getNumPages()\n",
    "\n",
    "for i in range(num_page):\n",
    "    text = pdf_reader.getPage(i).extractText()\n",
    "    regex = re.findall('(\\d{3})[\\.\\-\\#\\)\\(](\\d{3})[\\.\\-\\#\\)\\(](\\d{4})',text)\n",
    "    if len(regex) != 0:\n",
    "        number = ' '.join(regex[0])\n",
    "        break\n",
    "\n",
    "print(number)"
   ]
  },
  {
   "cell_type": "code",
   "execution_count": 9,
   "metadata": {},
   "outputs": [
    {
     "data": {
      "text/plain": [
       "\"Pushback it's a simple lift and shift job. Hit the ground running zeitgeist hit the ground \\nrunning, but first\\n-\\norder optimal strategies. When does this sunset? bleeding edge, high \\ntu\\nrnaround rate but agile. Ensure to follow requirements when developing solutions we \\nneed to dialog around your choice of work attire ping me optimize the fireball. When \\ndoes this sunset? strategic fit pushback. Helicopter view back of the net, for i am dea\\nd \\ninside win\\n-\\nwin\\n-\\nwin yet service as core &innovations as power makes our brand. What \\ndo you feel you would bring to the table if you were hired for this position. Golden goose \\nwindow\\n-\\nlicker what do you feel you would bring to the table if you were hired fo\\nr this \\nposition, or build on a culture of contribution and inclusion horsehead offer, we don't \\nneed to boil the ocean here. All hands on deck if you could do that, that would be great \\nUI quarterly sales are at an all\\n-\\ntime low, yet sea change but re\\n-\\ninventi\\nng the wheel. Let's \\nput a pin in that locked and loaded. Tribal knowledge get buy\\n-\\nin quick win, so disband \\nthe squad but rehydrate as needed, hit the ground running, nor we want to see more \\ncharts for technologically savvy. Gain traction nail jelly to the \\nhothouse wall, and come \\nup with something buzzworthy. I don't want to drain the whole swamp, i just want to \\nshoot some alligators optics. Product launch quantity can you slack it to me? \\ndownselect for fire up your browser streamline. Products need full res\\nourcing and \\nsupport from a cross\\n-\\nfunctional team in order to be built, maintained, and evolved come \\nup with something buzzworthy. Can you run this by clearance? hot johnny coming \\nthrough into the weeds, for goalposts. Quarterly sales are at an all\\n-\\ntime low\\n. Pivot \\nbaseline or customer centric, into the weeds innovation is hot right now we have to \\nleverage up the messaging.\\n \\n \\n \\nA tentative event rundown is attached for your reference, including other happenings on \\nthe day you are most welcome to join us beforeh\\nand for a light lunch we would also like \\nto invite you to other activities on the day, including the interim and closing panel \\ndiscussions on the intersection of businesses and social innovation, and on building a \\nstronger social innovation eco\\n-\\nsystem resp\\nectively. We don't need to boil the ocean \\nhere reach out what are the expectations nor land the plane. Talk to the slides make it \\nmore corporate please. Looks great, can we try it a different way cross functional teams \\nenable out of the box brainstorming a\\nnd cross sabers sacred cow beef up. We should \\nleverage existing asserts that ladder up to the message radical candor and you better \\neat a reality sandwich before you walk back in that boardroom. Loop back core \\ncompetencies. The right info at the right time\\n \\nto the right people can you put it on my \\ncalendar? so quick\\n-\\nwin yet vertical integration. The horse is out of the barn are there \\nany leftovers in the kitchen? back of the net, this is not the hill i want to die on.\\n \\n \\n \\nAll hands on deck I just wanted to giv\\ne you a heads\\n-\\nup, minimize backwards overflow \\nand it's not hard guys we need to future\\n-\\nproof this, yet quick win, yet gage [sic] where \\n\""
      ]
     },
     "execution_count": 9,
     "metadata": {},
     "output_type": "execute_result"
    }
   ],
   "source": []
  },
  {
   "cell_type": "code",
   "execution_count": 10,
   "metadata": {},
   "outputs": [
    {
     "data": {
      "text/plain": [
       "17"
      ]
     },
     "execution_count": 10,
     "metadata": {},
     "output_type": "execute_result"
    }
   ],
   "source": []
  },
  {
   "cell_type": "code",
   "execution_count": null,
   "metadata": {},
   "outputs": [],
   "source": []
  }
 ],
 "metadata": {
  "anaconda-cloud": {},
  "kernelspec": {
   "display_name": "Python 3",
   "language": "python",
   "name": "python3"
  },
  "language_info": {
   "codemirror_mode": {
    "name": "ipython",
    "version": 3
   },
   "file_extension": ".py",
   "mimetype": "text/x-python",
   "name": "python",
   "nbconvert_exporter": "python",
   "pygments_lexer": "ipython3",
   "version": "3.7.3"
  }
 },
 "nbformat": 4,
 "nbformat_minor": 2
}
