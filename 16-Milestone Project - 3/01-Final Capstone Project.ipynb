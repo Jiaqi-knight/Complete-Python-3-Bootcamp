{
 "cells": [
  {
   "cell_type": "markdown",
   "metadata": {
    "collapsed": true
   },
   "source": [
    "# Final Capstone Projects\n",
    "\n",
    "Please refer to the [**Final Capstone Projects**](http://nbviewer.jupyter.org/github/jmportilla/Complete-Python-Bootcamp/tree/master/Final%20Capstone%20Projects/) folder to get all the info on final capstone project ideas and possible solutions!"
   ]
  },
  {
   "cell_type": "code",
   "execution_count": 1,
   "metadata": {},
   "outputs": [],
   "source": [
    "class Factorizor:\n",
    "    def __init__(self, number):\n",
    "        self.number = number\n",
    "        self.prime_factorization = []\n",
    "        self.prime_factors = None\n",
    "        \n",
    "    def factorize(self):\n",
    "        number = self.number\n",
    "        divisor = 2\n",
    "        while divisor <= number:\n",
    "            if number % divisor == 0:\n",
    "                self.prime_factorization.append(divisor)\n",
    "                number /= divisor\n",
    "            else:\n",
    "                divisor += 1\n",
    "        self.prime_factors = set(self.prime_factorization)\n"
   ]
  },
  {
   "cell_type": "code",
   "execution_count": 4,
   "metadata": {},
   "outputs": [],
   "source": [
    "f = Factorizor(123456789123456)\n",
    "f.factorize()"
   ]
  },
  {
   "cell_type": "code",
   "execution_count": 5,
   "metadata": {},
   "outputs": [
    {
     "name": "stdout",
     "output_type": "stream",
     "text": [
      "123456789123456\n",
      "[2, 2, 2, 2, 2, 2, 2, 3, 10303, 31204703]\n",
      "{2, 3, 31204703, 10303}\n"
     ]
    }
   ],
   "source": [
    "print(f.number)\n",
    "print(f.prime_factorization)\n",
    "print(f.prime_factors)"
   ]
  },
  {
   "cell_type": "code",
   "execution_count": null,
   "metadata": {},
   "outputs": [],
   "source": [
    "B +=1"
   ]
  },
  {
   "cell_type": "code",
   "execution_count": null,
   "metadata": {},
   "outputs": [],
   "source": [
    "f.number +=3"
   ]
  },
  {
   "cell_type": "code",
   "execution_count": null,
   "metadata": {},
   "outputs": [],
   "source": []
  },
  {
   "cell_type": "code",
   "execution_count": null,
   "metadata": {},
   "outputs": [],
   "source": []
  }
 ],
 "metadata": {
  "kernelspec": {
   "display_name": "Python 3",
   "language": "python",
   "name": "python3"
  },
  "language_info": {
   "codemirror_mode": {
    "name": "ipython",
    "version": 3
   },
   "file_extension": ".py",
   "mimetype": "text/x-python",
   "name": "python",
   "nbconvert_exporter": "python",
   "pygments_lexer": "ipython3",
   "version": "3.7.3"
  }
 },
 "nbformat": 4,
 "nbformat_minor": 1
}
